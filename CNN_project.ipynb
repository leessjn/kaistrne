{
 "cells": [
  {
   "cell_type": "code",
   "execution_count": 77,
   "metadata": {},
   "outputs": [],
   "source": [
    "import cv2\n",
    "import os\n",
    "import numpy as np\n",
    "from tensorflow.keras.models import load_model"
   ]
  },
  {
   "cell_type": "code",
   "execution_count": 78,
   "metadata": {},
   "outputs": [],
   "source": [
    "location_model = load_model('CNN_location_model.keras')"
   ]
  },
  {
   "cell_type": "code",
   "execution_count": 79,
   "metadata": {},
   "outputs": [],
   "source": [
    "def normalize_test_image():\n",
    "    img_normalized = []\n",
    "    folder_path = \"./test_image\"\n",
    "\n",
    "    for filename in os.listdir(folder_path):\n",
    "        full_path = os.path.join(folder_path, filename)\n",
    "        img = cv2.imread(full_path, cv2.IMREAD_GRAYSCALE)\n",
    "        img_normalized.append(img)\n",
    "\n",
    "    return np.array(img_normalized)"
   ]
  },
  {
   "cell_type": "code",
   "execution_count": 80,
   "metadata": {},
   "outputs": [
    {
     "data": {
      "text/plain": [
       "(1, 208, 267)"
      ]
     },
     "execution_count": 80,
     "metadata": {},
     "output_type": "execute_result"
    }
   ],
   "source": [
    "test_image_data = normalize_test_image()\n",
    "test_image_data.shape"
   ]
  },
  {
   "cell_type": "code",
   "execution_count": 81,
   "metadata": {},
   "outputs": [],
   "source": [
    "cropped_image_size = 80\n",
    "\n",
    "test_data = []\n",
    "test_data_coordinate = []\n",
    "for img in test_image_data:\n",
    "    for i in range(0, 186, 2):\n",
    "        for j in range(0, 127, 2):\n",
    "            test_image = img[i:i+cropped_image_size, j:j+cropped_image_size]\n",
    "            test_image = cv2.resize(test_image, dsize=(50, 50))\n",
    "            test_data.append(test_image)\n",
    "            test_data_coordinate.append([j+int(cropped_image_size / 2), i+int(cropped_image_size / 2)])"
   ]
  },
  {
   "cell_type": "code",
   "execution_count": 82,
   "metadata": {},
   "outputs": [],
   "source": [
    "test_data = np.array(test_data)"
   ]
  },
  {
   "cell_type": "code",
   "execution_count": 83,
   "metadata": {},
   "outputs": [
    {
     "name": "stdout",
     "output_type": "stream",
     "text": [
      "\u001b[1m186/186\u001b[0m \u001b[32m━━━━━━━━━━━━━━━━━━━━\u001b[0m\u001b[37m\u001b[0m \u001b[1m2s\u001b[0m 11ms/step\n"
     ]
    },
    {
     "data": {
      "text/plain": [
       "array([[4.6279720e-24],\n",
       "       [7.5609020e-16],\n",
       "       [6.2626341e-25],\n",
       "       ...,\n",
       "       [6.7728586e-20],\n",
       "       [8.4373155e-14],\n",
       "       [6.1951153e-11]], dtype=float32)"
      ]
     },
     "execution_count": 83,
     "metadata": {},
     "output_type": "execute_result"
    }
   ],
   "source": [
    "test_pred = location_model.predict(test_data)\n",
    "test_pred"
   ]
  },
  {
   "cell_type": "code",
   "execution_count": 84,
   "metadata": {},
   "outputs": [],
   "source": [
    "test_pred = test_pred.flatten()"
   ]
  },
  {
   "cell_type": "code",
   "execution_count": 85,
   "metadata": {},
   "outputs": [],
   "source": [
    "def group_assign_weights(arr, threshold=3):\n",
    "    \n",
    "    arr = np.sort(arr)\n",
    "    weights = {}\n",
    "    current_group = [arr[0]]\n",
    "\n",
    "    for i in range(1, len(arr)):\n",
    "        if arr[i] - arr[i-1] <= threshold:\n",
    "            current_group.append(arr[i])\n",
    "        else:\n",
    "            weights[current_group[0]] = len(current_group)\n",
    "            current_group = [arr[i]]\n",
    "\n",
    "    weights[current_group[0]] = len(current_group)\n",
    "\n",
    "    return weights"
   ]
  },
  {
   "cell_type": "code",
   "execution_count": 86,
   "metadata": {},
   "outputs": [],
   "source": [
    "index_weight_dictionary = group_assign_weights(np.argsort(test_pred)[-10:])\n",
    "final_index = max(index_weight_dictionary, key=index_weight_dictionary.get)"
   ]
  },
  {
   "cell_type": "code",
   "execution_count": 87,
   "metadata": {},
   "outputs": [],
   "source": [
    "def show_predict_result(test_data_coordinate, center_x, center_y):\n",
    "\n",
    "    # 이미지 불러오기 (흑백 이미지)\n",
    "    image = test_image_data[0]\n",
    "\n",
    "    # 흑백 이미지를 3채널 이미지로 변환 (BGR)\n",
    "    image_colored = cv2.cvtColor(image, cv2.COLOR_GRAY2BGR)\n",
    "\n",
    "    # 사각형 크기 설정\n",
    "    rect_size = 50\n",
    "    half_size = rect_size // 2\n",
    "\n",
    "    # 사각형의 왼쪽 상단 좌표 (top-left)와 오른쪽 하단 좌표 (bottom-right) 계산\n",
    "    top_left = (center_x - half_size, center_y - half_size)\n",
    "    bottom_right = (center_x + half_size, center_y + half_size)\n",
    "\n",
    "    # 빨간색 사각형 그리기 (색상은 BGR로 설정, 빨간색은 (0, 0, 255))\n",
    "    cv2.rectangle(image_colored, top_left, bottom_right, (0, 0, 255), 2)\n",
    "\n",
    "    # 결과 이미지 보기\n",
    "    cv2.imshow(\"predicted\", image_colored)\n",
    "    cv2.waitKey(0)\n",
    "    cv2.destroyAllWindows()"
   ]
  },
  {
   "cell_type": "code",
   "execution_count": 88,
   "metadata": {},
   "outputs": [],
   "source": [
    "center_x = test_data_coordinate[final_index][0]\n",
    "center_y = test_data_coordinate[final_index][1]\n",
    "\n",
    "show_predict_result(test_data_coordinate, center_x, center_y)"
   ]
  },
  {
   "cell_type": "code",
   "execution_count": 89,
   "metadata": {},
   "outputs": [],
   "source": [
    "rotation_model = load_model('CNN_rotation_model.keras')"
   ]
  },
  {
   "cell_type": "code",
   "execution_count": 98,
   "metadata": {},
   "outputs": [],
   "source": [
    "crop_size = 80\n",
    "\n",
    "half_crop_size = crop_size // 2\n",
    "            \n",
    "start_x = center_x - half_crop_size\n",
    "start_y = center_y - half_crop_size\n",
    "end_x = center_x + half_crop_size\n",
    "end_y = center_y + half_crop_size\n",
    "\n",
    "final_block_image = test_image_data[0][start_y:end_y, start_x:end_x]\n",
    "final_block_image = np.array([cv2.resize(final_block_image, dsize=(50, 50))])"
   ]
  },
  {
   "cell_type": "code",
   "execution_count": 99,
   "metadata": {},
   "outputs": [
    {
     "data": {
      "text/plain": [
       "(1, 50, 50)"
      ]
     },
     "execution_count": 99,
     "metadata": {},
     "output_type": "execute_result"
    }
   ],
   "source": [
    "final_block_image.shape"
   ]
  },
  {
   "cell_type": "code",
   "execution_count": 106,
   "metadata": {},
   "outputs": [],
   "source": [
    "cv2.imshow('img', final_block_image[0])\n",
    "cv2.waitKey(0)\n",
    "cv2.destroyAllWindows()"
   ]
  },
  {
   "cell_type": "code",
   "execution_count": 101,
   "metadata": {},
   "outputs": [
    {
     "name": "stdout",
     "output_type": "stream",
     "text": [
      "\u001b[1m1/1\u001b[0m \u001b[32m━━━━━━━━━━━━━━━━━━━━\u001b[0m\u001b[37m\u001b[0m \u001b[1m0s\u001b[0m 14ms/step\n"
     ]
    },
    {
     "data": {
      "text/plain": [
       "array([[9.9999726e-01, 2.1305618e-06, 5.4541056e-07]], dtype=float32)"
      ]
     },
     "execution_count": 101,
     "metadata": {},
     "output_type": "execute_result"
    }
   ],
   "source": [
    "rotation_model.predict(final_block_image)"
   ]
  },
  {
   "cell_type": "code",
   "execution_count": 102,
   "metadata": {},
   "outputs": [
    {
     "name": "stdout",
     "output_type": "stream",
     "text": [
      "\u001b[1m1/1\u001b[0m \u001b[32m━━━━━━━━━━━━━━━━━━━━\u001b[0m\u001b[37m\u001b[0m \u001b[1m0s\u001b[0m 13ms/step\n"
     ]
    },
    {
     "data": {
      "text/plain": [
       "0"
      ]
     },
     "execution_count": 102,
     "metadata": {},
     "output_type": "execute_result"
    }
   ],
   "source": [
    "rotation_pred = np.argmax(rotation_model.predict(final_block_image)) * 30\n",
    "rotation_pred"
   ]
  },
  {
   "cell_type": "code",
   "execution_count": 107,
   "metadata": {},
   "outputs": [
    {
     "name": "stdout",
     "output_type": "stream",
     "text": [
      "final model prediction\n",
      "block location\n",
      "x : 150, y : 40\n",
      "block rotated : 0 degree\n"
     ]
    }
   ],
   "source": [
    "print('final model prediction')\n",
    "print('block location')\n",
    "print(f'x : {center_x}, y : {center_y}')\n",
    "print(f'block rotated : {rotation_pred} degree')"
   ]
  }
 ],
 "metadata": {
  "kernelspec": {
   "display_name": "mlenv",
   "language": "python",
   "name": "python3"
  },
  "language_info": {
   "codemirror_mode": {
    "name": "ipython",
    "version": 3
   },
   "file_extension": ".py",
   "mimetype": "text/x-python",
   "name": "python",
   "nbconvert_exporter": "python",
   "pygments_lexer": "ipython3",
   "version": "3.10.14"
  }
 },
 "nbformat": 4,
 "nbformat_minor": 2
}
